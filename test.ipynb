{
 "cells": [
  {
   "cell_type": "code",
   "execution_count": 6,
   "metadata": {},
   "outputs": [
    {
     "name": "stdout",
     "output_type": "stream",
     "text": [
      "・ ・ ・ ・ ・ ・ ・ ・ ・ ・ ・ ・ ・ ・ ・ ・ ・ ・ ・ ・ ・ ・ ・ ・ ・ ・ ・ ・ ・ ・ \n",
      "・ ・ ・ ・ ・ ・ ・ ・ ・ ・ ・ ・ ・ ・ ・ ・ ・ ・ ・ ・ ・ ・ ・ ・ ・ ・ ・ ・ ・ ・ \n",
      "・ ・ ・ ・ ・ ・ ・ ・ ・ ・ ・ ・ ・ ・ ・ ・ ・ ＊ ＊ ＊ ・ ・ ・ ・ ・ ・ ・ ・ ・ ・ \n",
      "・ ・ ・ ・ ・ ・ ・ ・ ・ ・ ・ ・ ・ ・ ・ ・ ・ ＊ ＊ ＊ ＊ ＊ ＊ ・ ・ ・ ・ ・ ・ ・ \n",
      "・ ・ ・ ・ ・ ・ ・ ・ ・ ・ ・ ・ ・ ・ ・ ・ ＊ ＊ ＊ ＊ ＊ ＊ ＊ ＊ ・ ・ ・ ・ ・ ・ \n",
      "・ ・ ・ ・ ・ ・ ・ ・ ・ ・ ・ ・ ・ ・ ・ ＊ ＊ ＊ ＊ ＊ ＊ ＊ ＊ ＊ ・ ・ ・ ・ ・ ・ \n",
      "・ ・ ・ ・ ・ ・ ・ ・ ・ ・ ・ ・ ・ ・ ・ ＊ ＊ ＊ ＊ ＊ ＊ ＊ ＊ ＊ ・ ・ ・ ・ ・ ・ \n",
      "・ ・ ・ ・ ・ ・ ・ ・ ・ ・ ・ ・ ・ ・ ・ ＊ ＊ ＊ ＊ ＊ ＊ ＊ ＊ ＊ ・ ・ ・ ・ ・ ・ \n",
      "・ ・ ・ ・ ・ ・ ・ ・ ・ ・ ・ ・ ・ ・ ・ ＊ ＊ ＊ ＊ ＊ ＊ ＊ ＊ ＊ ＊ ・ ・ ・ ・ ・ \n",
      "・ ・ ・ ・ ・ ・ ・ ・ ・ ・ ・ ・ ・ ・ ・ ・ ＊ ＊ ＊ ＊ ＊ ＊ ＊ ＊ ＊ ・ ・ ・ ・ ・ \n",
      "・ ・ ・ ・ ・ ・ ・ ・ ・ ・ ・ ・ ・ ・ ・ ・ ＊ ＊ ＊ ＊ ＊ ＊ ＊ ＊ ＊ ・ ・ ・ ・ ・ \n",
      "・ ・ ・ ・ ・ ・ ・ ・ ・ ・ ・ ・ ・ ・ ・ ・ ・ ＊ ＊ ＊ ＊ ＊ ＊ ＊ ＊ ・ ・ ・ ・ ・ \n",
      "・ ・ ・ ・ ・ ・ ・ ・ ・ ・ ・ ・ ・ ・ ・ ・ ・ ＊ ＊ ＊ ＊ ＊ ＊ ＊ ＊ ・ ・ ・ ・ ・ \n",
      "・ ・ ・ ・ ・ ・ ・ ・ ・ ＊ ・ ・ ・ ・ ・ ・ ・ ・ ＊ ＊ ＊ ＊ ＊ ・ ＊ ・ ・ ・ ・ ・ \n",
      "・ ・ ・ ・ ・ ・ ・ ・ ＊ ＊ ＊ ・ ・ ・ ・ ・ ・ ・ ＊ ＊ ＊ ＊ ＊ ・ ・ ・ ・ ・ ・ ・ \n",
      "・ ・ ・ ・ ・ ・ ・ ・ ＊ ＊ ＊ ＊ ・ ・ ・ ・ ＊ ＊ ＊ ＊ ＊ ＊ ＊ ＊ ・ ・ ・ ・ ・ ・ \n",
      "・ ・ ・ ・ ・ ・ ・ ・ ＊ ＊ ＊ ＊ ＊ ・ ・ ・ ＊ ＊ ＊ ＊ ＊ ＊ ＊ ・ ・ ・ ・ ・ ・ ・ \n",
      "・ ・ ・ ・ ・ ・ ・ ・ ・ ＊ ＊ ＊ ＊ ＊ ＊ ＊ ＊ ＊ ＊ ＊ ＊ ＊ ＊ ＊ ・ ・ ・ ・ ・ ・ \n",
      "・ ・ ・ ・ ・ ・ ・ ・ ・ ・ ・ ＊ ＊ ＊ ＊ ＊ ＊ ＊ ＊ ＊ ＊ ＊ ＊ ＊ ・ ・ ・ ・ ・ ・ \n",
      "・ ・ ・ ・ ・ ・ ・ ・ ・ ・ ＊ ＊ ＊ ＊ ＊ ＊ ＊ ＊ ＊ ＊ ＊ ＊ ＊ ＊ ・ ・ ・ ・ ・ ・ \n",
      "・ ・ ・ ・ ・ ・ ・ ・ ・ ・ ＊ ＊ ＊ ＊ ＊ ＊ ＊ ＊ ＊ ＊ ＊ ＊ ＊ ＊ ・ ・ ・ ・ ・ ・ \n",
      "・ ・ ・ ・ ・ ・ ・ ・ ・ ・ ＊ ＊ ＊ ＊ ＊ ＊ ＊ ＊ ＊ ＊ ＊ ＊ ＊ ＊ ＊ ・ ・ ・ ・ ・ \n"
     ]
    }
   ],
   "source": [
    "import cv2\n",
    "import numpy as np\n",
    "import time\n",
    "from IPython.display import clear_output\n",
    "\n",
    "def scale_to_width(img, width):\n",
    "    \"\"\"幅が指定した値になるように、アスペクト比を固定して、リサイズする。\n",
    "    \"\"\"\n",
    "    h, w = img.shape[:2]\n",
    "    height = round(h * (width / w))\n",
    "    dst = cv2.resize(img, dsize=(width, height))\n",
    "    return dst\n",
    "\n",
    "def create_pi (im, width):\n",
    "    pixel = ['＊ ', '・ ']\n",
    "    #im = cv2.imread(path)\n",
    "    im_s = scale_to_width(im, width)\n",
    "    im_g = cv2.cvtColor(im_s, cv2.COLOR_BGR2GRAY)\n",
    "    #二値化\n",
    "    # thresh = 128\n",
    "    # im_bool = (im_g > thresh) * 1\n",
    "    #im_bool = cv2.adaptiveThreshold(im_g, 1, cv2.ADAPTIVE_THRESH_MEAN_C, cv2.THRESH_BINARY, 7, 0)\n",
    "    ret, im_bool = cv2.threshold(im_g, 0, 1, cv2.THRESH_BINARY + cv2.THRESH_OTSU)\n",
    "    for i in im_bool:\n",
    "        for i1 in i:\n",
    "            print(pixel[i1],end='')\n",
    "        print()\n",
    "\n",
    "\n",
    "def create_mv (path, width):\n",
    "    cap = cv2.VideoCapture(path)\n",
    "    sleep_time = (1000//(cap.get(cv2.CAP_PROP_FPS)))/1000\n",
    "    #上書き表示用の定数\n",
    "    # ret, frame = cap.read()\n",
    "    # im_s = scale_to_width(frame, width)\n",
    "    # sz = np.shape(im_s)\n",
    "    # ow = '\\033[' + str(sz[0]+1) + 'A'\n",
    "    # create_pi(frame, width)\n",
    "    #2フレーム以降の表示\n",
    "    while True:\n",
    "        ret, frame = cap.read()\n",
    "        if ret:\n",
    "            #print(ow)\n",
    "            clear_output(wait=True)\n",
    "            create_pi(frame, width)\n",
    "            time.sleep(sleep_time)\n",
    "        else:\n",
    "            print()\n",
    "            break\n",
    "\n",
    "\n",
    "\n",
    "if __name__ == \"__main__\":\n",
    "    width = 30\n",
    "    create_mv('test.mp4', width)\n"
   ]
  }
 ],
 "metadata": {
  "interpreter": {
   "hash": "8a19a2d0cb3c1226fb9cc3e6a9fc8eadd6cee162169ff885728c19f357ae799f"
  },
  "kernelspec": {
   "display_name": "Python 3.8.12 64-bit ('mosaic': conda)",
   "language": "python",
   "name": "python3"
  },
  "language_info": {
   "codemirror_mode": {
    "name": "ipython",
    "version": 3
   },
   "file_extension": ".py",
   "mimetype": "text/x-python",
   "name": "python",
   "nbconvert_exporter": "python",
   "pygments_lexer": "ipython3",
   "version": "3.8.12"
  },
  "orig_nbformat": 4
 },
 "nbformat": 4,
 "nbformat_minor": 2
}
